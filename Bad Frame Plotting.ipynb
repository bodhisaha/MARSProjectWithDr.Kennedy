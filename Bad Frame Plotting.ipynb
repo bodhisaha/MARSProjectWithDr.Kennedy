{
 "cells": [
  {
   "cell_type": "code",
   "execution_count": 2,
   "metadata": {},
   "outputs": [],
   "source": [
    "import json\n",
    "import numpy as np\n",
    "import matplotlib.pyplot as plt\n",
    "import boto3\n",
    "import sagemaker\n",
    "import s3fs\n",
    "fs = s3fs.S3FileSystem()"
   ]
  },
  {
   "cell_type": "code",
   "execution_count": 3,
   "metadata": {},
   "outputs": [],
   "source": [
    "BUCKET = 'pose-estimates-for-bodhi' # the name of the bucket containing the pose jsons"
   ]
  },
  {
   "cell_type": "code",
   "execution_count": 6,
   "metadata": {},
   "outputs": [
    {
     "name": "stdout",
     "output_type": "stream",
     "text": [
      "Example code - finding bad frames.ipynb\n",
      "Mouse#20_BalbC_20180423_13-28-05_Front.seq\n",
      "Mouse#20_BalbC_20180423_13-28-05_Top.seq\n",
      "Mouse#20_BalbC_20180423_13-28-05_pose_top_v1_5.json\n",
      "Mouse#20_CastBalbC_20180423_11-37-37_Front.seq\n",
      "Mouse#20_CastBalbC_20180423_11-37-37_Top.seq\n",
      "Mouse#20_CastBalbC_20180423_11-37-37_pose_top_v1_5.json\n",
      "Mouse#22_BalbC_20180423_12-11-55_Front.seq\n",
      "Mouse#22_BalbC_20180423_12-11-55_Top.seq\n",
      "Mouse#22_BalbC_20180423_12-11-55_pose_top_v1_5.json\n",
      "Mouse#23_BalbC_20180423_12-39-09_Front.seq\n",
      "Mouse#23_BalbC_20180423_12-39-09_Top.seq\n",
      "Mouse#23_BalbC_20180423_12-39-09_pose_top_v1_5.json\n",
      "Mouse#24_BalbC_20180423_13-47-49_Front.seq\n",
      "Mouse#24_BalbC_20180423_13-47-49_Top.seq\n",
      "Mouse#24_BalbC_20180423_13-47-49_pose_top_v1_5.json\n",
      "Mouse#25_BalbC_20180423_14-30-32_Front.seq\n",
      "Mouse#25_BalbC_20180423_14-30-32_Top.seq\n",
      "Mouse#25_BalbC_20180423_14-30-32_pose_top_v1_5.json\n",
      "Mouse1100_20180110_20-51-38_Front.seq\n",
      "Mouse1100_20180110_20-51-38_Top.seq\n",
      "Mouse1100_20180110_20-51-38_pose_top_v1_5.json\n",
      "Mouse1100_20180110_21-59-59_Front.seq\n",
      "Mouse1100_20180110_21-59-59_Top.seq\n",
      "Mouse1100_20180110_21-59-59_pose_top_v1_5.json\n",
      "Mouse1102_20180117_20-22-25_Front.seq\n",
      "Mouse1102_20180117_20-22-25_Top.seq\n",
      "Mouse1102_20180117_20-22-25_pose_top_v1_5.json\n",
      "Mouse1139_20180406_11-19-25_Front.seq\n",
      "Mouse1139_20180406_11-19-25_Top.seq\n",
      "Mouse1139_20180406_11-19-25_pose_top_v1_5.json\n",
      "Mouse1143_20180405_13-08-57_Front.seq\n",
      "Mouse1143_20180405_13-08-57_Top.seq\n",
      "Mouse1143_20180405_13-08-57_pose_top_v1_5.json\n",
      "Mouse1145_20180405_12-51-10_Front.seq\n",
      "Mouse1145_20180405_12-51-10_Top.seq\n",
      "Mouse1145_20180405_12-51-10_pose_top_v1_5.json\n",
      "Mouse287_20170713_18-22-43_Front.seq\n",
      "Mouse287_20170713_18-22-43_Top.seq\n",
      "Mouse287_20170713_18-22-43_pose_top_v1_5.json\n",
      "Mouse291_20170711_15-27-55_Front.seq\n",
      "Mouse291_20170711_15-27-55_Top.seq\n",
      "Mouse291_20170711_15-27-55_pose_top_v1_5.json\n",
      "Mouse351_20171115_16-05-01_Front_J85.seq\n",
      "Mouse351_20171115_16-05-01_Top_J85.seq\n",
      "Mouse351_20171115_16-05-01_pose_top_v1_5.json\n",
      "Mouse447_20180117_12-35-57_Front_J85.seq\n",
      "Mouse447_20180117_12-35-57_Top_J85.seq\n",
      "Mouse447_20180117_12-35-57_pose_top_v1_5.json\n",
      "Mouse479_20180215_14-15-58_Front_J85.seq\n",
      "Mouse479_20180215_14-15-58_Top_J85.seq\n",
      "Mouse479_20180215_14-15-58_pose_top_v1_5.json\n",
      "Mouse482_20180314_13-39-24_Front_J85.seq\n",
      "Mouse482_20180314_13-39-24_Top_J85.seq\n",
      "Mouse482_20180314_13-39-24_pose_top_v1_5.json\n",
      "Mouse513_female_20180404_16-09-17_Front_J85.seq\n",
      "Mouse513_female_20180404_16-09-17_Top_J85.seq\n",
      "Mouse513_female_20180404_16-09-17_pose_top_v1_5.json\n",
      "Mouse513_male_20180404_15-42-09_Front_J85.seq\n",
      "Mouse513_male_20180404_15-42-09_Top_J85.seq\n",
      "Mouse513_male_20180404_15-42-09_pose_top_v1_5.json\n",
      "Mouse515_male_20180404_12-38-38_Front_J85.seq\n",
      "Mouse515_male_20180404_12-38-38_Top_J85.seq\n",
      "Mouse515_male_20180404_12-38-38_pose_top_v1_5.json\n",
      "Mouse524_20180521_17-12-38_Front.seq\n",
      "Mouse524_20180521_17-12-38_Top.seq\n",
      "Mouse524_20180521_17-12-38_pose_top_v1_7.json\n",
      "Mouse524_20180521_17-26-50_Front.seq\n",
      "Mouse524_20180521_17-26-50_Top.seq\n",
      "Mouse524_20180521_17-26-50_pose_top_v1_7.json\n",
      "Mouse524_20180521_17-46-31_Front.seq\n",
      "Mouse524_20180521_17-46-31_Top.seq\n",
      "Mouse524_20180521_17-46-31_pose_top_v1_7.json\n",
      "Mouse524_20180521_18-01-31_Front.seq\n",
      "Mouse524_20180521_18-01-31_Top.seq\n",
      "Mouse524_20180521_18-01-31_pose_top_v1_7.json\n",
      "Mouse529_20180521_18-40-59_Front.seq\n",
      "Mouse529_20180521_18-40-59_Top.seq\n",
      "Mouse529_20180521_18-40-59_pose_top_v1_7.json\n",
      "Mouse529_20180521_19-11-21_Front.seq\n",
      "Mouse529_20180521_19-11-21_Top.seq\n",
      "Mouse529_20180521_19-11-21_pose_top_v1_7.json\n",
      "Mouse529_20180521_19-38-42_Front.seq\n",
      "Mouse529_20180521_19-38-42_Top.seq\n",
      "Mouse529_20180521_19-38-42_pose_top_v1_7.json\n",
      "Mouse_20170302_10-50-34_Front_J85.seq\n",
      "Mouse_20170302_10-50-34_Top_J85.seq\n",
      "Mouse_20170302_10-50-34_pose_top_v1_5.json\n",
      "Mouse_20170302_12-39-09_Front_J85.seq\n",
      "Mouse_20170302_12-39-09_Top_J85.seq\n",
      "Mouse_20170302_12-39-09_pose_top_v1_5.json\n",
      "Mouse_20170314_14-19-03_Front_J85.seq\n",
      "Mouse_20170314_14-19-03_Top_J85.seq\n",
      "Mouse_20170314_14-19-03_pose_top_v1_5.json\n",
      "Mouse_20170321_10-59-36_Front_J85.seq\n",
      "Mouse_20170321_10-59-36_Top_J85.seq\n",
      "Mouse_20170321_10-59-36_pose_top_v1_5.json\n",
      "Mouse_20170324_12-12-09_Front_J85.seq\n",
      "Mouse_20170324_12-12-09_Top_J85.seq\n",
      "Mouse_20170324_12-12-09_pose_top_v1_5.json\n",
      "Mouse_20170329_08-37-39_Front_J85.seq\n",
      "Mouse_20170329_08-37-39_Top_J85.seq\n",
      "Mouse_20170329_08-37-39_pose_top_v1_5.json\n",
      "Mouse_20170719_13-08-14_Front.seq\n",
      "Mouse_20170719_13-08-14_Top.seq\n",
      "Mouse_20170719_13-08-14_pose_top_v1_5.json\n",
      "Mouse_20170906_11-08-18_Front_J85.seq\n",
      "Mouse_20170906_11-08-18_Top_J85.seq\n",
      "Mouse_20170906_11-08-18_pose_top_v1_5.json\n",
      "Mouse_20170906_16-02-55_Front_J85.seq\n",
      "Mouse_20170906_16-02-55_Top_J85.seq\n",
      "Mouse_20170906_16-02-55_pose_top_v1_5.json\n",
      "Mouse_20170928_11-12-53_Front_J85.seq\n",
      "Mouse_20170928_11-12-53_Top_J85.seq\n",
      "Mouse_20170928_11-12-53_pose_top_v1_5.json\n",
      "Mouse_20170928_13-06-53_Front_J85.seq\n",
      "Mouse_20170928_13-06-53_Top_J85.seq\n",
      "Mouse_20170928_13-06-53_pose_top_v1_5.json\n",
      "Mouse_20180116_15-02-15_Front_J85.seq\n",
      "Mouse_20180116_15-02-15_Top_J85.seq\n",
      "Mouse_20180116_15-02-15_pose_top_v1_5.json\n",
      "Mouse_20180116_15-34-50_Front_J85.seq\n",
      "Mouse_20180116_15-34-50_Top_J85.seq\n",
      "Mouse_20180116_15-34-50_pose_top_v1_5.json\n",
      "Mouse_20180222_18-06-26_Front.seq\n",
      "Mouse_20180222_18-06-26_Top.seq\n",
      "Mouse_20180222_18-06-26_pose_top_v1_5.json\n",
      "Mouse_20180302_18-50-52_Front.seq\n",
      "Mouse_20180302_18-50-52_Top.seq\n",
      "Mouse_20180302_18-50-52_pose_top_v1_5.json\n",
      "saved_frames/\n",
      "saved_frames/Mouse#20_BalbC_20180423_13-28-05_Top_1234.jpg\n",
      "seqIo.py\n"
     ]
    }
   ],
   "source": [
    "for key in s3.list_objects(Bucket = BUCKET)['Contents']:\n",
    "    print(key['Key'])"
   ]
  },
  {
   "cell_type": "code",
   "execution_count": 5,
   "metadata": {},
   "outputs": [],
   "source": [
    "role = sagemaker.get_execution_role()\n",
    "region = boto3.session.Session().region_name\n",
    "s3 = boto3.client('s3')\n",
    "\n",
    "bucket_region = s3.head_bucket(Bucket=BUCKET)['ResponseMetadata']['HTTPHeaders']['x-amz-bucket-region']\n",
    "assert bucket_region == region, \"You S3 bucket {} and this notebook need to be in the same region.\".format(BUCKET)"
   ]
  },
  {
   "cell_type": "code",
   "execution_count": 11,
   "metadata": {},
   "outputs": [],
   "source": [
    "# example code- how to load a .json from an s3 bucket into Python:\n",
    "\n",
    "# get all jsons in the bucket.\n",
    "json_list = fs.glob('s3://{}/*.json'.format(BUCKET))\n",
    "\n",
    "# take the first one as an example.\n",
    "fid = 's3://' + json_list[35]\n",
    "\n",
    "with fs.open(fid,'rb') as file:\n",
    "    data = json.load(file)"
   ]
  },
  {
   "cell_type": "markdown",
   "metadata": {},
   "source": [
    "The dimensions of `data['keypoints']` are (frames) x (mouse number) x (x,y) x (body part).\n",
    "\n",
    "Body parts are ordered (nose, ear1, ear2, neck, hip1, hip2, tail).\n",
    "\n",
    "some examples:\n",
    "- `data['keypoints'][100][0]` gives all keypoints from the first mouse on the 101st (counting from 0) frame.\n",
    "- `data['keypoints'][100][1][0][2]` gives the x-coordinate of ear2 from the second mouse on the 101st frame.\n",
    "\n",
    "A few other notes:\n",
    "- Values are in pixels, with a typical mouse being (I think) ~350 pixels long.\n",
    "- Sometimes the white mouse is not present at the start of recording: you will be able to tell this because all 7 keypoints will be very small values a few pixels apart.\n",
    "- In videos that start out with the white mouse being absent, the mouse is lowered into the cage by an experimenter. While the experimenter's hand is present, both mice are often obscured and the pose estimates will jump all over the place- but these frames shouldn't be pulled out as error frames, since human annotators won't know how to label them either!"
   ]
  },
  {
   "cell_type": "code",
   "execution_count": 13,
   "metadata": {},
   "outputs": [
    {
     "data": {
      "image/png": "[encoded data removed]",
      "text/plain": [
       "<Figure size 432x288 with 1 Axes>"
      ]
     },
     "metadata": {
      "needs_background": "light"
     },
     "output_type": "display_data"
    }
   ],
   "source": [
    "# if we plot the body parts in this order we'll get a figure-8 mouse pose:\n",
    "point_order = np.array([3, 2, 0, 1, 3, 4, 6, 5, 3])\n",
    "\n",
    "\n",
    "f1 = 16280\n",
    "\n",
    "# load the x,y coordinates of all body parts of the first mouse on frame f1 and frame f1+1.\n",
    "# We convert the data into a numpy array format to make it easier to work with.\n",
    "frame1 = np.array(data['keypoints'][f1][0])\n",
    "frame2 = np.array(data['keypoints'][f1+1][0])\n",
    "\n",
    "\n",
    "# plot where the first mouse is on frame 1, with an x marking the nose.\n",
    "plt.plot(frame1[0][point_order], frame1[1][point_order],'.-')\n",
    "plt.plot(frame1[0][0], frame1[1][0],'x')\n",
    "\n",
    "# plot where the first mouse is on frame 2, with an x marking the nose.\n",
    "plt.plot(frame2[0][point_order], frame2[1][point_order],'.-')\n",
    "plt.plot(frame2[0][0], frame2[1][0],'x')\n",
    "\n",
    "# add a legend, set axis limits, and display the plot.\n",
    "plt.legend(('frame 1 keypoint locations','frame 1 nose','frame 2 keypoint locations','frame 2 nose'))\n",
    "plt.xlim(0, 1300)\n",
    "plt.ylim(0, 600)\n",
    "plt.show()"
   ]
  },
  {
   "cell_type": "code",
   "execution_count": 14,
   "metadata": {
    "scrolled": true
   },
   "outputs": [
    {
     "name": "stdout",
     "output_type": "stream",
     "text": [
      "837.4402627661171\n"
     ]
    }
   ],
   "source": [
    "# as you can see, the pose estimates on these two frames are pretty close together,\n",
    "# suggesting that pose estimation is working fine.\n",
    "\n",
    "# To measure how much the mouse moved between these two frames, we will compute the\n",
    "# mean Euclidean Distance between each keypoint on frame 1 and each keypoint on frame 2:\n",
    "\n",
    "dX = frame2[0] - frame1[0]\n",
    "dY = frame2[1] - frame1[1]\n",
    "total_change = np.mean(np.sqrt(dX**2 + dY**2)) # **2 squares all the entries of dX.\n",
    "\n",
    "# displays the total change in keypoint position, in pixels, between these two frames:\n",
    "print(total_change)"
   ]
  }
 ],
 "metadata": {
  "kernelspec": {
   "display_name": "conda_python3",
   "language": "python",
   "name": "conda_python3"
  },
  "language_info": {
   "codemirror_mode": {
    "name": "ipython",
    "version": 3
   },
   "file_extension": ".py",
   "mimetype": "text/x-python",
   "name": "python",
   "nbconvert_exporter": "python",
   "pygments_lexer": "ipython3",
   "version": "3.6.10"
  }
 },
 "nbformat": 4,
 "nbformat_minor": 2
}
